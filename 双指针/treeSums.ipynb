{
 "cells": [
  {
   "cell_type": "markdown",
   "metadata": {},
   "source": [
    "双指针"
   ]
  },
  {
   "cell_type": "code",
   "execution_count": null,
   "metadata": {},
   "outputs": [],
   "source": [
    "def threeSum(nums):\n",
    "    nums.sort()\n",
    "    result = []\n",
    "    n = len(nums)\n",
    "    for left in range(n-2): # [-4, -1, -1, 0, 1, 2]\n",
    "        if left > 0 and nums[left] == nums[left-1]:\n",
    "            continue\n",
    "        right = n - 1\n",
    "        middle = left + 1\n",
    "        while middle < right:\n",
    "            sum = nums[left] + nums[middle] + nums[right]\n",
    "            if sum == 0:\n",
    "                result.append([nums[left], nums[middle], nums[right]])\n",
    "                middle += 1\n",
    "                right -= 1\n",
    "\n",
    "                while middle < right and nums[middle] == nums[middle-1]:\n",
    "                    middle += 1\n",
    "                while right > middle and nums[right] == nums[right+1]:\n",
    "                    right -= 1\n",
    "\n",
    "            elif sum < 0:\n",
    "                middle += 1\n",
    "                while middle < right and nums[middle] == nums[middle-1]:\n",
    "                    middle += 1\n",
    "            else:\n",
    "                right -= 1\n",
    "                while right > middle and nums[right] == nums[right+1]:\n",
    "                    right -= 1\n",
    "    return result\n",
    "\n",
    "nums = [-1, 0, 1, 2, -1, -4]\n",
    "print(threeSum(nums))"
   ]
  }
 ],
 "metadata": {
  "language_info": {
   "name": "python"
  }
 },
 "nbformat": 4,
 "nbformat_minor": 2
}
